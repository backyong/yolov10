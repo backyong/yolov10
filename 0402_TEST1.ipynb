{
  "nbformat": 4,
  "nbformat_minor": 0,
  "metadata": {
    "colab": {
      "provenance": [],
      "authorship_tag": "ABX9TyPkRPcygaHe/0MCFKzg6FmH",
      "include_colab_link": true
    },
    "kernelspec": {
      "name": "python3",
      "display_name": "Python 3"
    },
    "language_info": {
      "name": "python"
    }
  },
  "cells": [
    {
      "cell_type": "markdown",
      "metadata": {
        "id": "view-in-github",
        "colab_type": "text"
      },
      "source": [
        "<a href=\"https://colab.research.google.com/github/backyong/yolov10/blob/main/0402_TEST1.ipynb\" target=\"_parent\"><img src=\"https://colab.research.google.com/assets/colab-badge.svg\" alt=\"Open In Colab\"/></a>"
      ]
    },
    {
      "cell_type": "markdown",
      "source": [],
      "metadata": {
        "id": "_PJZgztMalPV"
      }
    },
    {
      "cell_type": "markdown",
      "source": [
        "프린트 명령으로 HEIIOW CNFFUR"
      ],
      "metadata": {
        "id": "NLLsUbl1alOf"
      }
    },
    {
      "cell_type": "code",
      "execution_count": 10,
      "metadata": {
        "colab": {
          "base_uri": "https://localhost:8080/",
          "height": 110
        },
        "id": "sLFB2rLOXVPo",
        "outputId": "895e6c04-7146-49fb-fdd1-62235fd63235"
      },
      "outputs": [
        {
          "output_type": "error",
          "ename": "SyntaxError",
          "evalue": "invalid syntax (<ipython-input-10-4c03b0395434>, line 1)",
          "traceback": [
            "\u001b[0;36m  File \u001b[0;32m\"<ipython-input-10-4c03b0395434>\"\u001b[0;36m, line \u001b[0;32m1\u001b[0m\n\u001b[0;31m    I PRINT(``HELLO``)\u001b[0m\n\u001b[0m      ^\u001b[0m\n\u001b[0;31mSyntaxError\u001b[0m\u001b[0;31m:\u001b[0m invalid syntax\n"
          ]
        }
      ],
      "source": [
        "I PRINT(``HELLO``)"
      ]
    }
  ]
}